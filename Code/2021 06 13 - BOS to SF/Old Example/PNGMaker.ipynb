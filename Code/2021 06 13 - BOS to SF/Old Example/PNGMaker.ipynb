{
 "cells": [
  {
   "cell_type": "code",
   "execution_count": 6,
   "metadata": {},
   "outputs": [],
   "source": [
    "#cairo is the primary drawing library used to create images\n",
    "import cairocffi as cairo\n",
    "import math\n",
    "import numpy as np\n",
    "import random\n",
    "import os\n",
    "import datetime\n",
    "import time\n",
    "import ardo as tor\n",
    "from IPython.display import SVG, display\n"
   ]
  },
  {
   "cell_type": "code",
   "execution_count": 7,
   "metadata": {},
   "outputs": [],
   "source": [
    "def shape(dc):\n",
    "        attempts = 1 #random.randint(10,20)\n",
    "\n",
    "        for i in range(attempts):\n",
    "            r = 100 #random.randint(100,150)\n",
    "            theta = 0\n",
    "            width = random.randint(10,50)\n",
    "            spots = 5 #random.randint(100,900)\n",
    "            switch = random.random()\n",
    "            change = random.randint(1,50)\n",
    "\n",
    "            for j in range(spots):\n",
    "                theta = np.deg2rad(theta)\n",
    "                x = int(r*np.cos(theta))\n",
    "                y = int(r*np.sin(theta))\n",
    "                tor.square(dc, x, y, width)\n",
    "                theta =int(j/spots*(360*3))\n",
    "                if switch >= 0.5:\n",
    "                    theta = (-1*theta)\n",
    "                r += 100"
   ]
  },
  {
   "cell_type": "code",
   "execution_count": 10,
   "metadata": {},
   "outputs": [],
   "source": [
    "#this is the funtion that draws the images\n",
    "def images(num_images):\n",
    "\n",
    "    for value in range(num_images):\n",
    "        #start of canvas prep\n",
    "        #image size in pixels\n",
    "        w = int(8.5*100)\n",
    "        h = int(11*100)\n",
    "\n",
    "        #uncomment for SVG\n",
    "        #filename = 'nope_'+ str(value) +'.svg'\n",
    "        #surface = cairo.SVGSurface(filename, w, h)\n",
    "        #print(filename)\n",
    "\n",
    "        #uncoment for PNG\n",
    "        surface = cairo.ImageSurface(cairo.FORMAT_ARGB32, w, h)\n",
    "\n",
    "        dc = cairo.Context(surface) # drawing context\n",
    "        red = tor.RGBconv(256)\n",
    "        green = tor.RGBconv(256)\n",
    "        blue = tor.RGBconv(256)\n",
    "        #dc.set_source_rgb(red, green, blue)\n",
    "        #dc.paint()\n",
    "        \n",
    "        #end of canvas prep \n",
    "      \n",
    "\n",
    "        rotations = 12\n",
    "        dc.translate(w/2,h/2)\n",
    "        for i in range(rotations):\n",
    "            dc.rotate(math.pi/6)\n",
    "            shape(dc)\n",
    "\n",
    "        #uncomment for PNG\n",
    "        filename = 'png_'+ str(value) + '.png'\n",
    "        surface.write_to_png(filename)\n",
    "        print(filename)"
   ]
  },
  {
   "cell_type": "code",
   "execution_count": 11,
   "metadata": {
    "scrolled": true
   },
   "outputs": [
    {
     "name": "stdout",
     "output_type": "stream",
     "text": [
      "flight_0.png\n",
      "flight_1.png\n",
      "flight_2.png\n",
      "flight_3.png\n",
      "flight_4.png\n",
      "flight_5.png\n",
      "flight_6.png\n",
      "flight_7.png\n",
      "flight_8.png\n",
      "flight_9.png\n"
     ]
    }
   ],
   "source": [
    "images(10)"
   ]
  },
  {
   "cell_type": "code",
   "execution_count": 12,
   "metadata": {
    "scrolled": true
   },
   "outputs": [],
   "source": [
    "import glob\n",
    "import numpy as np\n",
    "\n",
    "imgs = []\n",
    "files = glob.glob (\"*.SVG\")\n",
    "for myFile in files:\n",
    "    print(myFile)\n",
    "    image = myFile\n",
    "    imgs.append (image)"
   ]
  },
  {
   "cell_type": "code",
   "execution_count": 13,
   "metadata": {
    "scrolled": false
   },
   "outputs": [
    {
     "data": {
      "text/html": [
       "<style>svg{width:50% !important;height:50% !important;}</style>"
      ],
      "text/plain": [
       "<IPython.core.display.HTML object>"
      ]
     },
     "execution_count": 13,
     "metadata": {},
     "output_type": "execute_result"
    }
   ],
   "source": [
    "from IPython.display import HTML\n",
    "style = \"<style>svg{width:50% !important;height:50% !important;}</style>\"\n",
    "HTML(style)"
   ]
  },
  {
   "cell_type": "code",
   "execution_count": 14,
   "metadata": {
    "scrolled": true
   },
   "outputs": [],
   "source": [
    "import matplotlib.pyplot as plt\n",
    "\n",
    "for ima in imgs:\n",
    "    print(ima)\n",
    "    display(SVG(filename=ima))"
   ]
  },
  {
   "cell_type": "code",
   "execution_count": null,
   "metadata": {},
   "outputs": [],
   "source": []
  },
  {
   "cell_type": "code",
   "execution_count": null,
   "metadata": {},
   "outputs": [],
   "source": []
  }
 ],
 "metadata": {
  "kernelspec": {
   "display_name": "Python 3",
   "language": "python",
   "name": "python3"
  },
  "language_info": {
   "codemirror_mode": {
    "name": "ipython",
    "version": 3
   },
   "file_extension": ".py",
   "mimetype": "text/x-python",
   "name": "python",
   "nbconvert_exporter": "python",
   "pygments_lexer": "ipython3",
   "version": "3.7.7"
  }
 },
 "nbformat": 4,
 "nbformat_minor": 2
}
