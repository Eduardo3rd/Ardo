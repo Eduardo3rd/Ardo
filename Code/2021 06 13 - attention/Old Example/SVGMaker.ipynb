{
 "cells": [
  {
   "cell_type": "code",
   "execution_count": 21,
   "metadata": {},
   "outputs": [],
   "source": [
    "#cairo is the primary drawing library used to create images\n",
    "import cairocffi as cairo\n",
    "import math\n",
    "import numpy as np\n",
    "import random\n",
    "import os\n",
    "import datetime\n",
    "import time\n",
    "import ardo as tor\n",
    "from IPython.display import SVG, display\n"
   ]
  },
  {
   "cell_type": "code",
   "execution_count": 22,
   "metadata": {},
   "outputs": [],
   "source": [
    "#this is the funtion that draws the images\n",
    "def images(num_images):\n",
    "\n",
    "    for value in range(num_images):\n",
    "        #start of canvas prep\n",
    "       \n",
    "        #image size in pixels\n",
    "        w = int(8.5*100)\n",
    "        h = int(11*100)\n",
    "\n",
    "        #uncomment for SVG\n",
    "        filename = 'SVG_'+ str(value) +'.svg'\n",
    "        surface = cairo.SVGSurface(filename, w, h)\n",
    "        print(filename)\n",
    "\n",
    "        #uncoment for PNG\n",
    "        #surface = cairo.ImageSurface(cairo.FORMAT_ARGB32, w, h)\n",
    "       \n",
    "        dc = cairo.Context(surface) # drawing context\n",
    "        red = tor.RGBconv(256)\n",
    "        green = tor.RGBconv(256)\n",
    "        blue = tor.RGBconv(256)\n",
    "        #dc.set_source_rgb(red, green, blue)\n",
    "        #dc.paint()\n",
    "        \n",
    "        #end of canvas prep \n",
    " \n",
    "        #drawing functions start here \n",
    "    \n",
    "        tor.square(dc, w/2, h/2, w/4)\n",
    "    \n",
    "        #drawing functions end here \n",
    "\n",
    "\n",
    "\n",
    "        #uncomment for PNG\n",
    "        #filename = 'flight_'+ str(value) + '.png'\n",
    "        #surface.write_to_png(filename)\n",
    "        #print(filename)"
   ]
  },
  {
   "cell_type": "code",
   "execution_count": 23,
   "metadata": {
    "scrolled": true
   },
   "outputs": [
    {
     "name": "stdout",
     "output_type": "stream",
     "text": [
      "SVG_0.svg\n"
     ]
    }
   ],
   "source": [
    "#draw n images \n",
    "\n",
    "images(1)"
   ]
  },
  {
   "cell_type": "code",
   "execution_count": 24,
   "metadata": {
    "scrolled": true
   },
   "outputs": [
    {
     "name": "stdout",
     "output_type": "stream",
     "text": [
      "SVG_0.svg\n",
      "SVG_0.svg\n"
     ]
    },
    {
     "data": {
      "image/svg+xml": [
       "<svg height=\"1100pt\" version=\"1.1\" viewBox=\"0 0 850 1100\" width=\"850pt\" xmlns=\"http://www.w3.org/2000/svg\" xmlns:xlink=\"http://www.w3.org/1999/xlink\">\n",
       "<g id=\"surface81\">\n",
       "<path d=\"M 318.75 443.75 L 531.25 443.75 L 531.25 656.25 L 318.75 656.25 Z M 318.75 443.75 \" style=\"fill:none;stroke-width:1;stroke-linecap:butt;stroke-linejoin:miter;stroke:rgb(0%,0%,0%);stroke-opacity:1;stroke-miterlimit:10;\"/>\n",
       "</g>\n",
       "</svg>"
      ],
      "text/plain": [
       "<IPython.core.display.SVG object>"
      ]
     },
     "metadata": {},
     "output_type": "display_data"
    }
   ],
   "source": [
    "#display the generated SVGs in the notebook \n",
    "\n",
    "import glob\n",
    "import numpy as np\n",
    "from IPython.display import HTML\n",
    "import matplotlib.pyplot as plt\n",
    "\n",
    "imgs = []\n",
    "files = glob.glob (\"*.SVG\")\n",
    "for myFile in files:\n",
    "    print(myFile)\n",
    "    image = myFile\n",
    "    imgs.append (image)\n",
    "    \n",
    "style = \"<style>svg{width:50% !important;height:50% !important;}</style>\"\n",
    "HTML(style)\n",
    "\n",
    "for ima in imgs:\n",
    "    print(ima)\n",
    "    display(SVG(filename=ima))"
   ]
  },
  {
   "cell_type": "code",
   "execution_count": null,
   "metadata": {},
   "outputs": [],
   "source": []
  },
  {
   "cell_type": "code",
   "execution_count": null,
   "metadata": {},
   "outputs": [],
   "source": []
  }
 ],
 "metadata": {
  "kernelspec": {
   "display_name": "Python 3",
   "language": "python",
   "name": "python3"
  },
  "language_info": {
   "codemirror_mode": {
    "name": "ipython",
    "version": 3
   },
   "file_extension": ".py",
   "mimetype": "text/x-python",
   "name": "python",
   "nbconvert_exporter": "python",
   "pygments_lexer": "ipython3",
   "version": "3.7.7"
  }
 },
 "nbformat": 4,
 "nbformat_minor": 2
}
